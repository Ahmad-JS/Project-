{
 "cells": [
  {
   "cell_type": "markdown",
   "id": "b8df784c-8c13-428c-833e-107872a1e9c9",
   "metadata": {
    "tags": []
   },
   "source": [
    "# Data Science Tools and Ecosystem"
   ]
  },
  {
   "cell_type": "markdown",
   "id": "dcc0e623-6fe9-4540-a3b3-74cafb1094fe",
   "metadata": {},
   "source": [
    "In this notebook, Data Science Tools and Ecosystem are summarized."
   ]
  },
  {
   "cell_type": "markdown",
   "id": "a7ba9b1a-7107-49e8-9234-cbc7dad06d64",
   "metadata": {},
   "source": [
    "**Objectives:**\n",
    "- List popular languages for Data Science\n",
    "- List commonly used libraries by Data Scientists\n",
    "- List commonly used Data Science Tools"
   ]
  },
  {
   "cell_type": "markdown",
   "id": "c2de7abe-c847-44d6-a405-22d4088c9a10",
   "metadata": {
    "tags": []
   },
   "source": [
    "Some of the popular languages that Data Scientists use are:\n",
    "1. python\n",
    "2. R\n",
    "3. Java\n"
   ]
  },
  {
   "cell_type": "markdown",
   "id": "873f630a-3720-4969-a567-9a56df9158d2",
   "metadata": {},
   "source": [
    "Some of the commonly used libraries used by Data Scientists include:\n",
    "1. Matplotlib\n",
    "2. Pandas\n",
    "3. Numpy\n"
   ]
  },
  {
   "cell_type": "markdown",
   "id": "7a1de056-3a84-4c33-8433-08687362437d",
   "metadata": {},
   "source": [
    "|Data Science Tools|\n",
    "|------------------|\n",
    "|VS Code|\n",
    "|GitLab|\n",
    "|Jupyter|"
   ]
  },
  {
   "cell_type": "markdown",
   "id": "89f20f59-3442-44da-9217-5b002343971b",
   "metadata": {},
   "source": [
    "### Below are a few examples of evaluating arithmetic expressions in Python"
   ]
  },
  {
   "cell_type": "code",
   "execution_count": 1,
   "id": "02ce130f-4b63-438b-854c-75444c26b29a",
   "metadata": {
    "tags": []
   },
   "outputs": [
    {
     "data": {
      "text/plain": [
       "17"
      ]
     },
     "execution_count": 1,
     "metadata": {},
     "output_type": "execute_result"
    }
   ],
   "source": [
    "(3*4)+5\n",
    "# This a simple arithmetic expression to mutiply then add integers"
   ]
  },
  {
   "cell_type": "code",
   "execution_count": 2,
   "id": "3c9f2d7b-1f7b-4048-a822-b15a19992a8d",
   "metadata": {
    "tags": []
   },
   "outputs": [
    {
     "data": {
      "text/plain": [
       "3.3333333333333335"
      ]
     },
     "execution_count": 2,
     "metadata": {},
     "output_type": "execute_result"
    }
   ],
   "source": [
    "200/60\n",
    "# This will convert 200 minutes to hours by diving by 60"
   ]
  },
  {
   "cell_type": "markdown",
   "id": "b33fc17d-e917-4edb-886a-5894932a059f",
   "metadata": {},
   "source": [
    "## Author\n",
    "Chanyoung Jang"
   ]
  },
  {
   "cell_type": "code",
   "execution_count": null,
   "id": "bb723f51-36a5-4841-9121-6542fef95647",
   "metadata": {},
   "outputs": [],
   "source": []
  }
 ],
 "metadata": {
  "kernelspec": {
   "display_name": "Python",
   "language": "python",
   "name": "conda-env-python-py"
  },
  "language_info": {
   "codemirror_mode": {
    "name": "ipython",
    "version": 3
   },
   "file_extension": ".py",
   "mimetype": "text/x-python",
   "name": "python",
   "nbconvert_exporter": "python",
   "pygments_lexer": "ipython3",
   "version": "3.7.12"
  }
 },
 "nbformat": 4,
 "nbformat_minor": 5
}
